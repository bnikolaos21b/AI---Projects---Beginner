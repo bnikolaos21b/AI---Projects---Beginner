{
 "cells": [
  {
   "cell_type": "markdown",
   "metadata": {},
   "source": [
    "# Deep Q-Network (DQN) - CartPole-v1\n",
    "\n",
    "My name is **Nikos**, and this project along with others in this folder mark a significant milestone in my journey to becoming an AI Engineer. I’m passionate about artificial intelligence and machine learning, and this project serves as the first step in that path. Through it, I aim to not only understand how neural networks work but also demonstrate the practical applications of AI in real-world problems.\n",
    "\n",
    "This project implements a **Deep Q-Network (DQN)** using **PyTorch** to solve the **CartPole-v1** environment from OpenAI Gym. The goal is to balance a pole on a cart for as long as possible.\n",
    "\n",
    "The DQN agent is trained using reinforcement learning techniques, where it learns to select the best action by interacting with the environment. This project demonstrates how to apply DQN with target and local networks, experience replay, and epsilon-greedy exploration strategies."
   ]
  },
  {
   "cell_type": "markdown",
   "metadata": {},
   "source": [
    "---\n",
    "\n",
    "**IMPORT NECESSARY LIBRARIES**\n",
    "\n",
    "In this section, we import the required libraries, such as **Gym** for the environment, **PyTorch** for building the neural network, and other utilities like **numpy**, **random**, and **matplotlib** for data handling and visualization.\n",
    "\n",
    "---\n",
    "\n",
    "**SETTING RANDOM SEEDS**\n",
    "\n",
    "Setting random seeds for reproducibility ensures that the results can be replicated under the same conditions.\n"
   ]
  },
  {
   "cell_type": "code",
   "execution_count": 3,
   "metadata": {
    "execution": {
     "iopub.execute_input": "2024-09-26T13:28:11.793806Z",
     "iopub.status.busy": "2024-09-26T13:28:11.793401Z",
     "iopub.status.idle": "2024-09-26T13:28:11.801976Z",
     "shell.execute_reply": "2024-09-26T13:28:11.800730Z",
     "shell.execute_reply.started": "2024-09-26T13:28:11.793772Z"
    }
   },
   "outputs": [],
   "source": [
    "# Import necessary libraries\n",
    "import gym\n",
    "import numpy as np\n",
    "import random\n",
    "from collections import deque\n",
    "import matplotlib.pyplot as plt\n",
    "from IPython.display import HTML\n",
    "import matplotlib.animation as animation\n",
    "import torch\n",
    "import torch.nn as nn\n",
    "import torch.optim as optim\n",
    "\n",
    "# Set random seeds for reproducibility\n",
    "np.random.seed(0)\n",
    "torch.manual_seed(0)\n",
    "random.seed(0)"
   ]
  },
  {
   "cell_type": "markdown",
   "metadata": {},
   "source": [
    "---\n",
    "\n",
    "**DEFINE THE Q-NETWORK**\n",
    "\n",
    "The **Q-Network** is a simple fully connected neural network with two hidden layers (each with 64 units). This network maps input states to the corresponding action values.\n",
    "\n",
    "Key points:\n",
    "- The input layer has the state size (4 for CartPole).\n",
    "- The output layer has the action size (2 possible actions in CartPole: left or right).\n",
    "- Two hidden layers with ReLU activation.\n",
    "\n",
    "---"
   ]
  },
  {
   "cell_type": "code",
   "execution_count": 4,
   "metadata": {
    "execution": {
     "iopub.execute_input": "2024-09-26T13:28:11.805028Z",
     "iopub.status.busy": "2024-09-26T13:28:11.804602Z",
     "iopub.status.idle": "2024-09-26T13:28:11.811934Z",
     "shell.execute_reply": "2024-09-26T13:28:11.810965Z",
     "shell.execute_reply.started": "2024-09-26T13:28:11.804985Z"
    }
   },
   "outputs": [],
   "source": [
    "# Define the Q-Network using PyTorch\n",
    "class QNetwork(nn.Module):\n",
    "    def __init__(self, state_size, action_size, seed=0):\n",
    "        super(QNetwork, self).__init__()\n",
    "        self.seed = torch.manual_seed(seed)\n",
    "        # Define the network layers\n",
    "        self.fc1 = nn.Linear(state_size, 64)\n",
    "        self.fc2 = nn.Linear(64, 64)\n",
    "        self.out = nn.Linear(64, action_size)\n",
    "    \n",
    "    def forward(self, state):\n",
    "        # Forward pass through the network\n",
    "        x = torch.relu(self.fc1(state))\n",
    "        x = torch.relu(self.fc2(x))\n",
    "        return self.out(x)"
   ]
  },
  {
   "cell_type": "markdown",
   "metadata": {},
   "source": [
    "---\n",
    "\n",
    "**IMPLEMENT THE DQN AGENT**\n",
    "\n",
    "In this section, we define the **DQNAgent** class. The agent interacts with the environment by:\n",
    "1. Selecting actions based on the current policy (using epsilon-greedy).\n",
    "2. Storing experiences in the replay buffer.\n",
    "3. Learning from sampled experiences to update the Q-network.\n",
    "\n",
    "Key components:\n",
    "- **Q-Network**: Two Q-networks (local and target) for stable learning.\n",
    "- **Replay Buffer**: Stores experience tuples for training.\n",
    "- **Soft Update**: Updates the target network parameters with the local network parameters using a small factor **tau**.\n",
    "\n",
    "------\n",
    "\n",
    "**IMPLEMENT THE DQN AGENT**\n",
    "\n",
    "In this section, we define the **DQNAgent** class. The agent interacts with the environment by:\n",
    "1. Selecting actions based on the current policy (using epsilon-greedy).\n",
    "2. Storing experiences in the replay buffer.\n",
    "3. Learning from sampled experiences to update the Q-network.\n",
    "\n",
    "Key components:\n",
    "- **Q-Network**: Two Q-networks (local and target) for stable learning.\n",
    "- **Replay Buffer**: Stores experience tuples for training.\n",
    "- **Soft Update**: Updates the target network parameters with the local network parameters using a small factor **tau**.\n",
    "\n",
    "---\n",
    "\n",
    "**ACT METHOD (EPSILON-GREEDY POLICY)**\n",
    "\n",
    "The agent selects actions using an epsilon-greedy policy:\n",
    "- With probability epsilon, it selects a random action (exploration).\n",
    "- With probability 1-epsilon, it selects the action with the highest Q-value (exploitation).\n",
    "\n",
    "---\n",
    "\n",
    "**LEARN METHOD**\n",
    "\n",
    "The **learn** function updates the agent's Q-values based on a mini-batch of experiences sampled from the replay buffer. It computes the expected Q-values and the target Q-values, calculates the loss, and performs a gradient descent step to minimize the loss.\n",
    "\n",
    "---\n",
    "\n",
    "**SOFT UPDATE OF TARGET NETWORK**\n",
    "\n",
    "We apply soft updates to the target network to slowly align it with the local network, ensuring smoother training and preventing instability. The formula used is **θ_target = τ * θ_local + (1 - τ) * θ_target**.\n",
    "\n",
    "---"
   ]
  },
  {
   "cell_type": "code",
   "execution_count": null,
   "metadata": {
    "execution": {
     "iopub.status.busy": "2024-09-26T13:28:35.865572Z",
     "iopub.status.idle": "2024-09-26T13:28:35.866152Z",
     "shell.execute_reply": "2024-09-26T13:28:35.865943Z",
     "shell.execute_reply.started": "2024-09-26T13:28:35.865916Z"
    }
   },
   "outputs": [],
   "source": [
    "# Define the DQN Agent\n",
    "class DQNAgent:\n",
    "    def __init__(self, state_size, action_size, seed=0):\n",
    "        self.state_size = state_size\n",
    "        self.action_size = action_size\n",
    "        self.seed = random.seed(seed)\n",
    "        \n",
    "        # Q-Network\n",
    "        self.qnetwork_local = QNetwork(state_size, action_size, seed)\n",
    "        self.qnetwork_target = QNetwork(state_size, action_size, seed)\n",
    "        self.optimizer = optim.Adam(self.qnetwork_local.parameters(), lr=5e-4)\n",
    "        \n",
    "        # Replay memory\n",
    "        self.memory = deque(maxlen=10000)  # Buffer size\n",
    "        self.batch_size = 64               # Mini-batch size\n",
    "        \n",
    "        # Hyperparameters\n",
    "        self.gamma = 0.99        # Discount factor\n",
    "        self.tau = 1e-3          # Soft update parameter\n",
    "        self.update_every = 4    # How often to update the network\n",
    "        self.t_step = 0          # Time step counter\n",
    "    \n",
    "    def step(self, state, action, reward, next_state, done):\n",
    "        # Save experience in replay memory\n",
    "        self.memory.append((state, action, reward, next_state, done))\n",
    "        \n",
    "        # Learn every 'update_every' time steps\n",
    "        self.t_step = (self.t_step + 1) % self.update_every\n",
    "        if self.t_step == 0 and len(self.memory) > self.batch_size:\n",
    "            experiences = random.sample(self.memory, k=self.batch_size)\n",
    "            self.learn(experiences)\n",
    "    \n",
    "    def act(self, state, eps=0.0):\n",
    "        # Returns actions for given state as per current policy\n",
    "        state = torch.from_numpy(state).float().unsqueeze(0)\n",
    "        self.qnetwork_local.eval()  # Set network to evaluation mode\n",
    "        with torch.no_grad():\n",
    "            action_values = self.qnetwork_local(state)\n",
    "        self.qnetwork_local.train()  # Set back to training mode\n",
    "        \n",
    "        # Epsilon-greedy action selection\n",
    "        if random.random() > eps:\n",
    "            return np.argmax(action_values.cpu().data.numpy())\n",
    "        else:\n",
    "            return random.choice(np.arange(self.action_size))\n",
    "    \n",
    "    def learn(self, experiences):\n",
    "        # Update value parameters using given batch of experience tuples\n",
    "        states, actions, rewards, next_states, dones = zip(*experiences)\n",
    "        \n",
    "        states = torch.from_numpy(np.vstack(states)).float()\n",
    "        actions = torch.from_numpy(np.array(actions)).long().unsqueeze(1)\n",
    "        rewards = torch.from_numpy(np.array(rewards)).float().unsqueeze(1)\n",
    "        next_states = torch.from_numpy(np.vstack(next_states)).float()\n",
    "        dones = torch.from_numpy(np.array(dones).astype(np.uint8)).float().unsqueeze(1)\n",
    "        \n",
    "        # Get max predicted Q values (for next states) from target model\n",
    "        Q_targets_next = self.qnetwork_target(next_states).detach().max(1)[0].unsqueeze(1)\n",
    "        # Compute Q targets for current states\n",
    "        Q_targets = rewards + (self.gamma * Q_targets_next * (1 - dones))\n",
    "        \n",
    "        # Get expected Q values from local model\n",
    "        Q_expected = self.qnetwork_local(states).gather(1, actions)\n",
    "        \n",
    "        # Compute loss\n",
    "        loss = nn.MSELoss()(Q_expected, Q_targets)\n",
    "        # Minimize the loss\n",
    "        self.optimizer.zero_grad()\n",
    "        loss.backward()\n",
    "        self.optimizer.step()\n",
    "        \n",
    "        # Update target network parameters\n",
    "        self.soft_update(self.qnetwork_local, self.qnetwork_target)\n",
    "    \n",
    "    def soft_update(self, local_model, target_model):\n",
    "        # θ_target = τ*θ_local + (1 - τ)*θ_target\n",
    "        for target_param, local_param in zip(target_model.parameters(), local_model.parameters()):\n",
    "            target_param.data.copy_(self.tau*local_param.data + (1.0 - self.tau)*target_param.data)\n"
   ]
  },
  {
   "cell_type": "markdown",
   "metadata": {},
   "source": [
    "---\n",
    "\n",
    "**TRAINING THE AGENT (DQN FUNCTION)**\n",
    "\n",
    "This section defines the training loop for the agent:\n",
    "- The agent interacts with the environment for multiple episodes, and its performance (score) is recorded.\n",
    "- The Q-network is updated every few steps using mini-batches of experience.\n",
    "- Epsilon decays over time to reduce exploration and favor exploitation.\n",
    "\n",
    "The training terminates when the agent achieves an average score of 195 over 100 consecutive episodes, solving the environment.\n",
    "\n",
    "---\n",
    "\n",
    "**PLOTTING THE TRAINING PROGRESS**\n",
    "\n",
    "After training, the agent's performance (scores) is plotted to visualize the learning progress over time.\n",
    "\n",
    "---"
   ]
  },
  {
   "cell_type": "code",
   "execution_count": 6,
   "metadata": {
    "execution": {
     "iopub.execute_input": "2024-09-26T13:29:10.072684Z",
     "iopub.status.busy": "2024-09-26T13:29:10.072269Z",
     "iopub.status.idle": "2024-09-26T13:29:33.262610Z",
     "shell.execute_reply": "2024-09-26T13:29:33.261510Z",
     "shell.execute_reply.started": "2024-09-26T13:29:10.072647Z"
    }
   },
   "outputs": [
    {
     "name": "stdout",
     "output_type": "stream",
     "text": [
      "Episode 100\tAverage Score: 17.45\n",
      "Episode 200\tAverage Score: 12.07\n",
      "Episode 300\tAverage Score: 10.96\n",
      "Episode 400\tAverage Score: 10.18\n",
      "Episode 500\tAverage Score: 10.18\n",
      "Episode 600\tAverage Score: 9.950\n",
      "Episode 700\tAverage Score: 11.40\n",
      "Episode 800\tAverage Score: 13.54\n",
      "Episode 900\tAverage Score: 22.84\n",
      "Episode 1000\tAverage Score: 56.83\n",
      "Episode 1088\tAverage Score: 195.06\n",
      "Environment solved in 988 episodes!\tAverage Score: 195.06\n"
     ]
    },
    {
     "data": {
      "image/png": "[encoded data removed]",
      "text/plain": [
       "<Figure size 1000x600 with 1 Axes>"
      ]
     },
     "metadata": {},
     "output_type": "display_data"
    }
   ],
   "source": [
    "# Training function\n",
    "def dqn(n_episodes=3000, max_t=1000, eps_start=1.0, eps_end=0.01, eps_decay=0.995):\n",
    "    env = gym.make('CartPole-v1')\n",
    "    agent = DQNAgent(state_size=4, action_size=2)\n",
    "    scores = []                        # List containing scores from each episode\n",
    "    scores_window = deque(maxlen=100)  # Last 100 scores\n",
    "    eps = eps_start                    # Initialize epsilon\n",
    "    for i_episode in range(1, n_episodes+1):\n",
    "        state, _ = env.reset()\n",
    "        score = 0\n",
    "        for t in range(max_t):\n",
    "            action = agent.act(state, eps)            # Select an action\n",
    "            next_state, reward, terminated, truncated, _ = env.step(action)  # Take action\n",
    "            done = terminated or truncated\n",
    "            agent.step(state, action, reward, next_state, done)  # Agent learns\n",
    "            state = next_state\n",
    "            score += reward\n",
    "            if done:\n",
    "                break \n",
    "        scores_window.append(score)       # Save most recent score\n",
    "        scores.append(score)              # Save most recent score\n",
    "        eps = max(eps_end, eps_decay*eps) # Decrease epsilon\n",
    "        print('\\rEpisode {}\\tAverage Score: {:.2f}'.format(i_episode, np.mean(scores_window)), end=\"\")\n",
    "        if i_episode % 100 == 0:\n",
    "            print('\\rEpisode {}\\tAverage Score: {:.2f}'.format(i_episode, np.mean(scores_window)))\n",
    "        if np.mean(scores_window)>=195.0:\n",
    "            print('\\nEnvironment solved in {:d} episodes!\\tAverage Score: {:.2f}'.format(i_episode-100, np.mean(scores_window)))\n",
    "            break\n",
    "    env.close()\n",
    "    # Plot the scores\n",
    "    plt.figure(figsize=(10,6))\n",
    "    plt.plot(np.arange(len(scores)), scores)\n",
    "    plt.ylabel('Score')\n",
    "    plt.xlabel('Episode #')\n",
    "    plt.title('Training Progress')\n",
    "    plt.show()\n",
    "    return agent\n",
    "\n",
    "# Train the agent\n",
    "trained_agent = dqn()"
   ]
  },
  {
   "cell_type": "markdown",
   "metadata": {},
   "source": [
    "---\n",
    "\n",
    "### Animation of the Trained Agent\n",
    "\n",
    "The following GIF shows the trained agent successfully balancing the pole after training in the **CartPole-v1** environment.\n",
    "\n",
    "![CartPole Animation](./cartpole_animation.gif)\n",
    "\n",
    "\n",
    "---"
   ]
  },
  {
   "cell_type": "code",
   "execution_count": null,
   "metadata": {},
   "outputs": [],
   "source": []
  }
 ],
 "metadata": {
  "kaggle": {
   "accelerator": "none",
   "dataSources": [],
   "dockerImageVersionId": 30775,
   "isGpuEnabled": false,
   "isInternetEnabled": true,
   "language": "python",
   "sourceType": "notebook"
  },
  "kernelspec": {
   "display_name": "Python 3 (ipykernel)",
   "language": "python",
   "name": "python3"
  },
  "language_info": {
   "codemirror_mode": {
    "name": "ipython",
    "version": 3
   },
   "file_extension": ".py",
   "mimetype": "text/x-python",
   "name": "python",
   "nbconvert_exporter": "python",
   "pygments_lexer": "ipython3",
   "version": "3.11.0"
  }
 },
 "nbformat": 4,
 "nbformat_minor": 4
}
